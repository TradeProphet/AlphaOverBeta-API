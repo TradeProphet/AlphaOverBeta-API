{
 "cells": [
  {
   "cell_type": "code",
   "execution_count": null,
   "id": "b8c8c84a-2251-4f7d-8288-4ae13f3eda01",
   "metadata": {},
   "outputs": [],
   "source": [
    "Backtesting Without installing a backtester\n"
   ]
  }
 ],
 "metadata": {
  "kernelspec": {
   "display_name": "Python 3 (ipykernel)",
   "language": "python",
   "name": "python3"
  },
  "language_info": {
   "codemirror_mode": {
    "name": "ipython",
    "version": 3
   },
   "file_extension": ".py",
   "mimetype": "text/x-python",
   "name": "python",
   "nbconvert_exporter": "python",
   "pygments_lexer": "ipython3",
   "version": "3.9.13"
  }
 },
 "nbformat": 4,
 "nbformat_minor": 5
}
